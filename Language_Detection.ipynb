{
  "nbformat": 4,
  "nbformat_minor": 0,
  "metadata": {
    "colab": {
      "name": "Language_Detection.ipynb",
      "provenance": []
    },
    "kernelspec": {
      "name": "python3",
      "display_name": "Python 3"
    },
    "language_info": {
      "name": "python"
    }
  },
  "cells": [
    {
      "cell_type": "code",
      "source": [
        "pip install langdetect"
      ],
      "metadata": {
        "colab": {
          "base_uri": "https://localhost:8080/"
        },
        "id": "ZkKJrdVDW9ia",
        "outputId": "229b9010-b832-4e11-d65d-610d1f193c65"
      },
      "execution_count": null,
      "outputs": [
        {
          "output_type": "stream",
          "name": "stdout",
          "text": [
            "Collecting langdetect\n",
            "  Downloading langdetect-1.0.9.tar.gz (981 kB)\n",
            "\u001b[?25l\r\u001b[K     |▍                               | 10 kB 18.8 MB/s eta 0:00:01\r\u001b[K     |▊                               | 20 kB 23.6 MB/s eta 0:00:01\r\u001b[K     |█                               | 30 kB 29.0 MB/s eta 0:00:01\r\u001b[K     |█▍                              | 40 kB 31.0 MB/s eta 0:00:01\r\u001b[K     |█▊                              | 51 kB 23.6 MB/s eta 0:00:01\r\u001b[K     |██                              | 61 kB 26.9 MB/s eta 0:00:01\r\u001b[K     |██▍                             | 71 kB 26.3 MB/s eta 0:00:01\r\u001b[K     |██▊                             | 81 kB 27.4 MB/s eta 0:00:01\r\u001b[K     |███                             | 92 kB 29.7 MB/s eta 0:00:01\r\u001b[K     |███▍                            | 102 kB 29.5 MB/s eta 0:00:01\r\u001b[K     |███▊                            | 112 kB 29.5 MB/s eta 0:00:01\r\u001b[K     |████                            | 122 kB 29.5 MB/s eta 0:00:01\r\u001b[K     |████▍                           | 133 kB 29.5 MB/s eta 0:00:01\r\u001b[K     |████▊                           | 143 kB 29.5 MB/s eta 0:00:01\r\u001b[K     |█████                           | 153 kB 29.5 MB/s eta 0:00:01\r\u001b[K     |█████▍                          | 163 kB 29.5 MB/s eta 0:00:01\r\u001b[K     |█████▊                          | 174 kB 29.5 MB/s eta 0:00:01\r\u001b[K     |██████                          | 184 kB 29.5 MB/s eta 0:00:01\r\u001b[K     |██████▍                         | 194 kB 29.5 MB/s eta 0:00:01\r\u001b[K     |██████▊                         | 204 kB 29.5 MB/s eta 0:00:01\r\u001b[K     |███████                         | 215 kB 29.5 MB/s eta 0:00:01\r\u001b[K     |███████▍                        | 225 kB 29.5 MB/s eta 0:00:01\r\u001b[K     |███████▊                        | 235 kB 29.5 MB/s eta 0:00:01\r\u001b[K     |████████                        | 245 kB 29.5 MB/s eta 0:00:01\r\u001b[K     |████████▍                       | 256 kB 29.5 MB/s eta 0:00:01\r\u001b[K     |████████▊                       | 266 kB 29.5 MB/s eta 0:00:01\r\u001b[K     |█████████                       | 276 kB 29.5 MB/s eta 0:00:01\r\u001b[K     |█████████▍                      | 286 kB 29.5 MB/s eta 0:00:01\r\u001b[K     |█████████▊                      | 296 kB 29.5 MB/s eta 0:00:01\r\u001b[K     |██████████                      | 307 kB 29.5 MB/s eta 0:00:01\r\u001b[K     |██████████▍                     | 317 kB 29.5 MB/s eta 0:00:01\r\u001b[K     |██████████▊                     | 327 kB 29.5 MB/s eta 0:00:01\r\u001b[K     |███████████                     | 337 kB 29.5 MB/s eta 0:00:01\r\u001b[K     |███████████▍                    | 348 kB 29.5 MB/s eta 0:00:01\r\u001b[K     |███████████▊                    | 358 kB 29.5 MB/s eta 0:00:01\r\u001b[K     |████████████                    | 368 kB 29.5 MB/s eta 0:00:01\r\u001b[K     |████████████▍                   | 378 kB 29.5 MB/s eta 0:00:01\r\u001b[K     |████████████▊                   | 389 kB 29.5 MB/s eta 0:00:01\r\u001b[K     |█████████████                   | 399 kB 29.5 MB/s eta 0:00:01\r\u001b[K     |█████████████▍                  | 409 kB 29.5 MB/s eta 0:00:01\r\u001b[K     |█████████████▊                  | 419 kB 29.5 MB/s eta 0:00:01\r\u001b[K     |██████████████                  | 430 kB 29.5 MB/s eta 0:00:01\r\u001b[K     |██████████████▍                 | 440 kB 29.5 MB/s eta 0:00:01\r\u001b[K     |██████████████▊                 | 450 kB 29.5 MB/s eta 0:00:01\r\u001b[K     |███████████████                 | 460 kB 29.5 MB/s eta 0:00:01\r\u001b[K     |███████████████▍                | 471 kB 29.5 MB/s eta 0:00:01\r\u001b[K     |███████████████▊                | 481 kB 29.5 MB/s eta 0:00:01\r\u001b[K     |████████████████                | 491 kB 29.5 MB/s eta 0:00:01\r\u001b[K     |████████████████▍               | 501 kB 29.5 MB/s eta 0:00:01\r\u001b[K     |████████████████▊               | 512 kB 29.5 MB/s eta 0:00:01\r\u001b[K     |█████████████████               | 522 kB 29.5 MB/s eta 0:00:01\r\u001b[K     |█████████████████▍              | 532 kB 29.5 MB/s eta 0:00:01\r\u001b[K     |█████████████████▊              | 542 kB 29.5 MB/s eta 0:00:01\r\u001b[K     |██████████████████              | 552 kB 29.5 MB/s eta 0:00:01\r\u001b[K     |██████████████████▍             | 563 kB 29.5 MB/s eta 0:00:01\r\u001b[K     |██████████████████▊             | 573 kB 29.5 MB/s eta 0:00:01\r\u001b[K     |███████████████████             | 583 kB 29.5 MB/s eta 0:00:01\r\u001b[K     |███████████████████▍            | 593 kB 29.5 MB/s eta 0:00:01\r\u001b[K     |███████████████████▊            | 604 kB 29.5 MB/s eta 0:00:01\r\u001b[K     |████████████████████            | 614 kB 29.5 MB/s eta 0:00:01\r\u001b[K     |████████████████████▍           | 624 kB 29.5 MB/s eta 0:00:01\r\u001b[K     |████████████████████▊           | 634 kB 29.5 MB/s eta 0:00:01\r\u001b[K     |█████████████████████           | 645 kB 29.5 MB/s eta 0:00:01\r\u001b[K     |█████████████████████▍          | 655 kB 29.5 MB/s eta 0:00:01\r\u001b[K     |█████████████████████▊          | 665 kB 29.5 MB/s eta 0:00:01\r\u001b[K     |██████████████████████          | 675 kB 29.5 MB/s eta 0:00:01\r\u001b[K     |██████████████████████▍         | 686 kB 29.5 MB/s eta 0:00:01\r\u001b[K     |██████████████████████▊         | 696 kB 29.5 MB/s eta 0:00:01\r\u001b[K     |███████████████████████         | 706 kB 29.5 MB/s eta 0:00:01\r\u001b[K     |███████████████████████▍        | 716 kB 29.5 MB/s eta 0:00:01\r\u001b[K     |███████████████████████▊        | 727 kB 29.5 MB/s eta 0:00:01\r\u001b[K     |████████████████████████        | 737 kB 29.5 MB/s eta 0:00:01\r\u001b[K     |████████████████████████▍       | 747 kB 29.5 MB/s eta 0:00:01\r\u001b[K     |████████████████████████▊       | 757 kB 29.5 MB/s eta 0:00:01\r\u001b[K     |█████████████████████████       | 768 kB 29.5 MB/s eta 0:00:01\r\u001b[K     |█████████████████████████▍      | 778 kB 29.5 MB/s eta 0:00:01\r\u001b[K     |█████████████████████████▊      | 788 kB 29.5 MB/s eta 0:00:01\r\u001b[K     |██████████████████████████      | 798 kB 29.5 MB/s eta 0:00:01\r\u001b[K     |██████████████████████████▍     | 808 kB 29.5 MB/s eta 0:00:01\r\u001b[K     |██████████████████████████▊     | 819 kB 29.5 MB/s eta 0:00:01\r\u001b[K     |███████████████████████████     | 829 kB 29.5 MB/s eta 0:00:01\r\u001b[K     |███████████████████████████▍    | 839 kB 29.5 MB/s eta 0:00:01\r\u001b[K     |███████████████████████████▊    | 849 kB 29.5 MB/s eta 0:00:01\r\u001b[K     |████████████████████████████    | 860 kB 29.5 MB/s eta 0:00:01\r\u001b[K     |████████████████████████████▍   | 870 kB 29.5 MB/s eta 0:00:01\r\u001b[K     |████████████████████████████▊   | 880 kB 29.5 MB/s eta 0:00:01\r\u001b[K     |█████████████████████████████   | 890 kB 29.5 MB/s eta 0:00:01\r\u001b[K     |█████████████████████████████▍  | 901 kB 29.5 MB/s eta 0:00:01\r\u001b[K     |█████████████████████████████▊  | 911 kB 29.5 MB/s eta 0:00:01\r\u001b[K     |██████████████████████████████  | 921 kB 29.5 MB/s eta 0:00:01\r\u001b[K     |██████████████████████████████▍ | 931 kB 29.5 MB/s eta 0:00:01\r\u001b[K     |██████████████████████████████▊ | 942 kB 29.5 MB/s eta 0:00:01\r\u001b[K     |███████████████████████████████ | 952 kB 29.5 MB/s eta 0:00:01\r\u001b[K     |███████████████████████████████▍| 962 kB 29.5 MB/s eta 0:00:01\r\u001b[K     |███████████████████████████████▊| 972 kB 29.5 MB/s eta 0:00:01\r\u001b[K     |████████████████████████████████| 981 kB 29.5 MB/s \n",
            "\u001b[?25hRequirement already satisfied: six in /usr/local/lib/python3.7/dist-packages (from langdetect) (1.15.0)\n",
            "Building wheels for collected packages: langdetect\n",
            "  Building wheel for langdetect (setup.py) ... \u001b[?25l\u001b[?25hdone\n",
            "  Created wheel for langdetect: filename=langdetect-1.0.9-py3-none-any.whl size=993242 sha256=dda2fc6b82c4fbaa0ad0aff46461f76aa0a8bba46b0e4afdf05994e85a671ef7\n",
            "  Stored in directory: /root/.cache/pip/wheels/c5/96/8a/f90c59ed25d75e50a8c10a1b1c2d4c402e4dacfa87f3aff36a\n",
            "Successfully built langdetect\n",
            "Installing collected packages: langdetect\n",
            "Successfully installed langdetect-1.0.9\n"
          ]
        }
      ]
    },
    {
      "cell_type": "code",
      "source": [
        "from langdetect import detect\n",
        "detect('Good Morning, How are you?')"
      ],
      "metadata": {
        "colab": {
          "base_uri": "https://localhost:8080/",
          "height": 35
        },
        "id": "mCHUjHHlWstC",
        "outputId": "65daa76d-952c-4ea8-8dc9-98f0ec5cf393"
      },
      "execution_count": null,
      "outputs": [
        {
          "output_type": "execute_result",
          "data": {
            "text/plain": [
              "'en'"
            ],
            "application/vnd.google.colaboratory.intrinsic+json": {
              "type": "string"
            }
          },
          "metadata": {},
          "execution_count": 7
        }
      ]
    },
    {
      "cell_type": "code",
      "source": [
        "from langdetect import detect\n",
        "detect('காலை வணக்கம் எப்படி இருக்கிறீர்கள்?')"
      ],
      "metadata": {
        "id": "XGvpDeY5fH4z",
        "colab": {
          "base_uri": "https://localhost:8080/",
          "height": 35
        },
        "outputId": "9bb09c6c-58a9-46d0-f000-e22c82702515"
      },
      "execution_count": null,
      "outputs": [
        {
          "output_type": "execute_result",
          "data": {
            "text/plain": [
              "'ta'"
            ],
            "application/vnd.google.colaboratory.intrinsic+json": {
              "type": "string"
            }
          },
          "metadata": {},
          "execution_count": 8
        }
      ]
    }
  ]
}